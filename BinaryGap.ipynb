{
 "cells": [
  {
   "cell_type": "markdown",
   "metadata": {},
   "source": [
    "# BinaryGap\n",
    "Find longest sequence of zeros in binary representation of an integer."
   ]
  },
  {
   "cell_type": "code",
   "execution_count": 17,
   "metadata": {},
   "outputs": [
    {
     "name": "stdout",
     "output_type": "stream",
     "text": [
      "10000010001\n",
      "0\n",
      "0\n",
      "0\n",
      "0\n",
      "0\n",
      "1\n",
      "0\n",
      "0\n",
      "0\n",
      "1\n",
      "5\n"
     ]
    }
   ],
   "source": [
    "num = 6291457\n",
    "\n",
    "# convert num into binary; remove 0b prefix\n",
    "in_binary = bin(num)[2:]\n",
    "print(in_binary)\n",
    "\n",
    "# check if there are 0s in the binary value\n",
    "if '0' not in in_binary: \n",
    "    print('0') \n",
    "    \n",
    "# check if there are more than one 1s in the binary value\n",
    "if in_binary.count(\"1\") == 1: \n",
    "    print('0')\n",
    "\n",
    "# set initial values\n",
    "zero_ctr = 0\n",
    "start_sw = True\n",
    "highest_0_ctr = 0\n",
    "\n",
    "# iterate through the binary digits\n",
    "bin_len = len(in_binary)\n",
    "for x in range(1, bin_len):\n",
    "    print(in_binary[x])\n",
    "\n",
    "    if in_binary[x] == '0':\n",
    "        zero_ctr += 1\n",
    "        if start_sw:\n",
    "            start_sw = False            \n",
    "    else:\n",
    "        if not start_sw:\n",
    "            if zero_ctr > highest_0_ctr:\n",
    "                highest_0_ctr = zero_ctr\n",
    "            start_sw = True\n",
    "            zero_ctr = 0\n",
    "        \n",
    "print(highest_0_ctr)"
   ]
  }
 ],
 "metadata": {
  "kernelspec": {
   "display_name": "Python 3",
   "language": "python",
   "name": "python3"
  },
  "language_info": {
   "codemirror_mode": {
    "name": "ipython",
    "version": 3
   },
   "file_extension": ".py",
   "mimetype": "text/x-python",
   "name": "python",
   "nbconvert_exporter": "python",
   "pygments_lexer": "ipython3",
   "version": "3.6.10"
  }
 },
 "nbformat": 4,
 "nbformat_minor": 4
}
